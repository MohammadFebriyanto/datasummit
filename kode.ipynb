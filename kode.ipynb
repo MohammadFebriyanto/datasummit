{
 "cells": [
  {
   "cell_type": "code",
   "execution_count": 1,
   "metadata": {},
   "outputs": [],
   "source": [
    "import pandas as pd\n",
    "import numpy as np\n",
    "import seaborn as sns\n",
    "import matplotlib.pyplot as plt\n",
    "%matplotlib inline"
   ]
  },
  {
   "cell_type": "code",
   "execution_count": 2,
   "metadata": {},
   "outputs": [],
   "source": [
    "df1 = pd.read_excel('CAPAIAN NILAI UJIAN NASIONAL SMA TAHUN AJARAN 2018-2019_  (1).xlsx')\n",
    "df2 = pd.read_excel('CAPAIAN NILAI UJIAN NASIONAL SMA TAHUN AJARAN 2018-2019_ .xlsx')\n",
    "df3 = pd.read_excel('CAPAIAN NILAI UJIAN NASIONAL SMA TAHUN AJARAN 2018-2019_  (2).xlsx')\n",
    "df4 = pd.read_excel('CAPAIAN NILAI UJIAN NASIONAL SMA TAHUN AJARAN 2018-2019_  (3).xlsx')\n",
    "df5 = pd.read_excel('CAPAIAN NILAI UJIAN NASIONAL SMA TAHUN AJARAN 2018-2019_  (6).xlsx')"
   ]
  },
  {
   "cell_type": "code",
   "execution_count": 3,
   "metadata": {},
   "outputs": [],
   "source": [
    "df = pd.concat([df1,df2,df3,df4,df5])"
   ]
  },
  {
   "cell_type": "code",
   "execution_count": 4,
   "metadata": {},
   "outputs": [],
   "source": [
    "df = df.drop(df.index[0])"
   ]
  },
  {
   "cell_type": "code",
   "execution_count": 6,
   "metadata": {},
   "outputs": [
    {
     "data": {
      "text/html": [
       "<div>\n",
       "<style scoped>\n",
       "    .dataframe tbody tr th:only-of-type {\n",
       "        vertical-align: middle;\n",
       "    }\n",
       "\n",
       "    .dataframe tbody tr th {\n",
       "        vertical-align: top;\n",
       "    }\n",
       "\n",
       "    .dataframe thead th {\n",
       "        text-align: right;\n",
       "    }\n",
       "</style>\n",
       "<table border=\"1\" class=\"dataframe\">\n",
       "  <thead>\n",
       "    <tr style=\"text-align: right;\">\n",
       "      <th></th>\n",
       "      <th>NO</th>\n",
       "      <th>KODE</th>\n",
       "      <th>JUMLAH PESERTA</th>\n",
       "      <th>BAHASA INDONESIA</th>\n",
       "      <th>BAHASA INGGRIS</th>\n",
       "      <th>MATEMATIKA</th>\n",
       "      <th>RERATA NILAI</th>\n",
       "    </tr>\n",
       "  </thead>\n",
       "  <tbody>\n",
       "    <tr>\n",
       "      <th>count</th>\n",
       "      <td>4353.000000</td>\n",
       "      <td>4.358000e+03</td>\n",
       "      <td>4358.000000</td>\n",
       "      <td>4358.000000</td>\n",
       "      <td>4358.000000</td>\n",
       "      <td>4358.000000</td>\n",
       "      <td>4358.000000</td>\n",
       "    </tr>\n",
       "    <tr>\n",
       "      <th>mean</th>\n",
       "      <td>1024.491845</td>\n",
       "      <td>2.135113e+06</td>\n",
       "      <td>134.691143</td>\n",
       "      <td>62.574057</td>\n",
       "      <td>47.630050</td>\n",
       "      <td>34.919346</td>\n",
       "      <td>48.824408</td>\n",
       "    </tr>\n",
       "    <tr>\n",
       "      <th>std</th>\n",
       "      <td>660.458762</td>\n",
       "      <td>9.516993e+04</td>\n",
       "      <td>3069.680519</td>\n",
       "      <td>10.040418</td>\n",
       "      <td>12.343671</td>\n",
       "      <td>7.262867</td>\n",
       "      <td>8.591440</td>\n",
       "    </tr>\n",
       "    <tr>\n",
       "      <th>min</th>\n",
       "      <td>1.000000</td>\n",
       "      <td>2.999990e+05</td>\n",
       "      <td>1.000000</td>\n",
       "      <td>29.170000</td>\n",
       "      <td>29.860000</td>\n",
       "      <td>23.750000</td>\n",
       "      <td>29.940000</td>\n",
       "    </tr>\n",
       "    <tr>\n",
       "      <th>25%</th>\n",
       "      <td>454.000000</td>\n",
       "      <td>2.100005e+06</td>\n",
       "      <td>22.000000</td>\n",
       "      <td>55.680000</td>\n",
       "      <td>39.210000</td>\n",
       "      <td>30.482500</td>\n",
       "      <td>43.032500</td>\n",
       "    </tr>\n",
       "    <tr>\n",
       "      <th>50%</th>\n",
       "      <td>998.000000</td>\n",
       "      <td>2.130514e+06</td>\n",
       "      <td>37.000000</td>\n",
       "      <td>62.165000</td>\n",
       "      <td>43.330000</td>\n",
       "      <td>32.655000</td>\n",
       "      <td>46.900000</td>\n",
       "    </tr>\n",
       "    <tr>\n",
       "      <th>75%</th>\n",
       "      <td>1542.000000</td>\n",
       "      <td>2.190002e+06</td>\n",
       "      <td>90.000000</td>\n",
       "      <td>69.520000</td>\n",
       "      <td>51.915000</td>\n",
       "      <td>36.597500</td>\n",
       "      <td>52.580000</td>\n",
       "    </tr>\n",
       "    <tr>\n",
       "      <th>max</th>\n",
       "      <td>2401.000000</td>\n",
       "      <td>2.270515e+06</td>\n",
       "      <td>146667.000000</td>\n",
       "      <td>94.000000</td>\n",
       "      <td>94.290000</td>\n",
       "      <td>85.100000</td>\n",
       "      <td>87.010000</td>\n",
       "    </tr>\n",
       "  </tbody>\n",
       "</table>\n",
       "</div>"
      ],
      "text/plain": [
       "                NO          KODE  JUMLAH PESERTA  BAHASA INDONESIA  \\\n",
       "count  4353.000000  4.358000e+03     4358.000000       4358.000000   \n",
       "mean   1024.491845  2.135113e+06      134.691143         62.574057   \n",
       "std     660.458762  9.516993e+04     3069.680519         10.040418   \n",
       "min       1.000000  2.999990e+05        1.000000         29.170000   \n",
       "25%     454.000000  2.100005e+06       22.000000         55.680000   \n",
       "50%     998.000000  2.130514e+06       37.000000         62.165000   \n",
       "75%    1542.000000  2.190002e+06       90.000000         69.520000   \n",
       "max    2401.000000  2.270515e+06   146667.000000         94.000000   \n",
       "\n",
       "       BAHASA INGGRIS   MATEMATIKA  RERATA NILAI  \n",
       "count     4358.000000  4358.000000   4358.000000  \n",
       "mean        47.630050    34.919346     48.824408  \n",
       "std         12.343671     7.262867      8.591440  \n",
       "min         29.860000    23.750000     29.940000  \n",
       "25%         39.210000    30.482500     43.032500  \n",
       "50%         43.330000    32.655000     46.900000  \n",
       "75%         51.915000    36.597500     52.580000  \n",
       "max         94.290000    85.100000     87.010000  "
      ]
     },
     "execution_count": 6,
     "metadata": {},
     "output_type": "execute_result"
    }
   ],
   "source": [
    "df.describe()"
   ]
  },
  {
   "cell_type": "markdown",
   "metadata": {},
   "source": [
    "# Persebaran Sekolah Berdasarkan Nilai Berdasarkan RERATA NILAI"
   ]
  },
  {
   "cell_type": "code",
   "execution_count": 8,
   "metadata": {},
   "outputs": [],
   "source": [
    "kat_A = df[df['RERATA NILAI'] > 48.824408+8.591440]"
   ]
  },
  {
   "cell_type": "code",
   "execution_count": 11,
   "metadata": {},
   "outputs": [],
   "source": [
    "kat_B = df[df['RERATA NILAI'] < 48.824408+8.591440]\n",
    "kat_B = df[df['RERATA NILAI'] > 48.824408-8.591440]"
   ]
  },
  {
   "cell_type": "code",
   "execution_count": 44,
   "metadata": {},
   "outputs": [],
   "source": [
    "kat_C = df[df['RERATA NILAI'] < 48.824408-8.591440]"
   ]
  },
  {
   "cell_type": "code",
   "execution_count": 45,
   "metadata": {},
   "outputs": [
    {
     "data": {
      "image/png": "[encoded data removed]",
      "text/plain": [
       "<Figure size 432x288 with 1 Axes>"
      ]
     },
     "metadata": {
      "needs_background": "light"
     },
     "output_type": "display_data"
    }
   ],
   "source": [
    "data = pd.DataFrame({'Kategori':['Kat_A', 'Kat_B', 'Kat_C'], 'Frekuensi':[kat_A['BAHASA INDONESIA'].count(), kat_B['BAHASA INDONESIA'].count(), kat_C['BAHASA INDONESIA'].count()]})\n",
    "ax = data.plot.bar(x='Kategori', y='Frekuensi', rot=0)"
   ]
  },
  {
   "cell_type": "code",
   "execution_count": null,
   "metadata": {},
   "outputs": [],
   "source": []
  }
 ],
 "metadata": {
  "kernelspec": {
   "display_name": "Python 3",
   "language": "python",
   "name": "python3"
  },
  "language_info": {
   "codemirror_mode": {
    "name": "ipython",
    "version": 3
   },
   "file_extension": ".py",
   "mimetype": "text/x-python",
   "name": "python",
   "nbconvert_exporter": "python",
   "pygments_lexer": "ipython3",
   "version": "3.7.3"
  }
 },
 "nbformat": 4,
 "nbformat_minor": 4
}
